{
 "cells": [
  {
   "cell_type": "code",
   "execution_count": null,
   "id": "32f2b0a9",
   "metadata": {},
   "outputs": [],
   "source": [
    "#**1. БАЗОВЫЕ ФИНАНСОВЫЕ ИНСТРУМЕНТЫ:**\n",
    "\n",
    "from abc import ABC, abstractmethod\n",
    "\n",
    "class AbstractAsset(ABC):\n",
    "    def __init__(self, *args, **kwargs):\n",
    "        super().__init__(args, kwags)\n",
    "\n",
    "class Stock:\n",
    "    pass\n",
    "\n",
    "#- Реализуйте класс `EuropeanPutOption`, наследующий от `Option`\n",
    "#- Реализуйте класс `AmericanCallOption` с возможностью досрочного исполнения\n",
    "#- Добавьте валидацию даты истечения в базовый класс `Option`\n",
    "#- Создайте класс `Stock` (акция) как наследник `AbstractAsset`/"
   ]
  },
  {
   "cell_type": "code",
   "execution_count": null,
   "id": "18d56629",
   "metadata": {},
   "outputs": [],
   "source": [
    "#**2. РАСШИРЕННЫЕ ОПЦИОНЫ:**\n",
    "#- Реализуйте класс `BinaryOption` (бинарный опцион)\n",
    "#- Создайте класс `BarrierOption` (барьерный опцион)\n",
    "#- Добавьте метод расчета Greeks (дельта, гамма, тета, вега) для опционов"
   ]
  },
  {
   "cell_type": "code",
   "execution_count": null,
   "id": "4103e357",
   "metadata": {},
   "outputs": [],
   "source": [
    "#**3. ПОРТФЕЛЬ И УПРАВЛЕНИЕ АКТИВАМИ:**\n",
    "#- Реализуйте метод `__repr__` для класса `Portfolio`\n",
    "#- Добавьте метод `__getitem__` для доступа к активам по индексу\n",
    "#- Реализуйте метод `__contains__` для проверки наличия актива в портфеле\n",
    "#- Добавьте метод `remove_asset` для удаления актива из портфеля\n",
    "#- Создайте метод `calculate_portfolio_risk` для расчета риска портфеля"
   ]
  },
  {
   "cell_type": "code",
   "execution_count": null,
   "id": "89af5e68",
   "metadata": {},
   "outputs": [],
   "source": [
    "#**4. АЛЬФА-СТРАТЕГИИ:**\n",
    "#- Реализуйте абстрактный класс `Alpha`\n",
    "#- Создайте класс `AlphaPortfolio`, наследующий от `Portfolio`\n",
    "#- Добавьте методы для расчета альфа-коэффициента и бета-коэффициента\n",
    "#- Реализуйте класс `MomentumAlpha` и `MeanReversionAlpha`"
   ]
  },
  {
   "cell_type": "code",
   "execution_count": null,
   "id": "63ad094c",
   "metadata": {},
   "outputs": [],
   "source": [
    "#**5. ДОПОЛНИТЕЛЬНЫЕ DUNDER МЕТОДЫ:**\n",
    "#- Добавьте `__eq__`, `__lt__`, `__le__` для сравнения портфелей\n",
    "#- Реализуйте `__mul__` для умножения портфеля на число (масштабирование)\n",
    "#- Добавьте `__str__` для красивого вывода портфеля\n",
    "#- Реализуйте `__bool__` для проверки, является ли портфель пустым"
   ]
  },
  {
   "cell_type": "code",
   "execution_count": null,
   "id": "9a4423b4",
   "metadata": {},
   "outputs": [],
   "source": [
    "#**6. ПРОДВИНУТЫЕ ЗАДАЧИ:**\n",
    "#- Создайте декоратор `@validate_option_params` для валидации параметров опционов\n",
    "#- Реализуйте класс `PortfolioManager` с методами для управления несколькими портфелями\n",
    "#- Добавьте поддержку сериализации/десериализации портфелей (pickle)\n",
    "#- Создайте контекстный менеджер для временного изменения параметров портфеля"
   ]
  }
 ],
 "metadata": {
  "language_info": {
   "name": "python"
  }
 },
 "nbformat": 4,
 "nbformat_minor": 5
}
